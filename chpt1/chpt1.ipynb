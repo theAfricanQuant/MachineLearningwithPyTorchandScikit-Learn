{
 "cells": [
  {
   "cell_type": "code",
   "execution_count": 1,
   "id": "ba6d0505",
   "metadata": {},
   "outputs": [
    {
     "name": "stdout",
     "output_type": "stream",
     "text": [
      "[OK] Your Python version is 3.9.22 (main, May 30 2025, 05:30:51) [MSC v.1929 64 bit (AMD64)]\n"
     ]
    }
   ],
   "source": [
    "import sys\n",
    "sys.path.insert(0, '..')\n",
    "\n",
    "from python_environment_check import check_packages"
   ]
  },
  {
   "cell_type": "code",
   "execution_count": 2,
   "id": "09783a71",
   "metadata": {},
   "outputs": [
    {
     "name": "stdout",
     "output_type": "stream",
     "text": [
      "[OK] numpy 1.21.2\n",
      "[OK] scipy 1.7.0\n",
      "[OK] matplotlib 3.4.3\n",
      "[OK] sklearn 1.0\n",
      "[OK] pandas 1.3.2\n"
     ]
    }
   ],
   "source": [
    "d = {\n",
    "    'numpy': '1.21.2',\n",
    "    'scipy': '1.7.0',\n",
    "    'matplotlib': '3.4.3',\n",
    "    'sklearn': '1.0',\n",
    "    'pandas': '1.3.2'\n",
    "}\n",
    "check_packages(d)"
   ]
  }
 ],
 "metadata": {
  "kernelspec": {
   "display_name": ".venv",
   "language": "python",
   "name": "python3"
  },
  "language_info": {
   "codemirror_mode": {
    "name": "ipython",
    "version": 3
   },
   "file_extension": ".py",
   "mimetype": "text/x-python",
   "name": "python",
   "nbconvert_exporter": "python",
   "pygments_lexer": "ipython3",
   "version": "3.9.22"
  }
 },
 "nbformat": 4,
 "nbformat_minor": 5
}
